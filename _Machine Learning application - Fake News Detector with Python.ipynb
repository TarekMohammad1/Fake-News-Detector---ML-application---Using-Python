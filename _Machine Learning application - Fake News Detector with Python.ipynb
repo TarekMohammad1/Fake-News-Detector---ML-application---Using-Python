{
 "cells": [
  {
   "cell_type": "markdown",
   "metadata": {},
   "source": [
    "# Fake news detector:"
   ]
  },
  {
   "cell_type": "markdown",
   "metadata": {},
   "source": [
    "### Importing Packages:"
   ]
  },
  {
   "cell_type": "code",
   "execution_count": 1,
   "metadata": {},
   "outputs": [],
   "source": [
    "import numpy as np\n",
    "import pandas as pd\n",
    "import itertools\n",
    "from sklearn.model_selection import train_test_split\n",
    "from sklearn.feature_extraction.text import TfidfVectorizer\n",
    "from sklearn.linear_model import PassiveAggressiveClassifier\n",
    "from sklearn.metrics import accuracy_score, confusion_matrix"
   ]
  },
  {
   "cell_type": "markdown",
   "metadata": {},
   "source": [
    "### Importing data"
   ]
  },
  {
   "cell_type": "code",
   "execution_count": 20,
   "metadata": {},
   "outputs": [
    {
     "name": "stdout",
     "output_type": "stream",
     "text": [
      "This is our data\n",
      "\n",
      "(6335, 4)\n"
     ]
    },
    {
     "data": {
      "text/html": [
       "<div>\n",
       "<style scoped>\n",
       "    .dataframe tbody tr th:only-of-type {\n",
       "        vertical-align: middle;\n",
       "    }\n",
       "\n",
       "    .dataframe tbody tr th {\n",
       "        vertical-align: top;\n",
       "    }\n",
       "\n",
       "    .dataframe thead th {\n",
       "        text-align: right;\n",
       "    }\n",
       "</style>\n",
       "<table border=\"1\" class=\"dataframe\">\n",
       "  <thead>\n",
       "    <tr style=\"text-align: right;\">\n",
       "      <th></th>\n",
       "      <th>Unnamed: 0</th>\n",
       "      <th>title</th>\n",
       "      <th>text</th>\n",
       "      <th>label</th>\n",
       "    </tr>\n",
       "  </thead>\n",
       "  <tbody>\n",
       "    <tr>\n",
       "      <th>0</th>\n",
       "      <td>8476</td>\n",
       "      <td>You Can Smell Hillary’s Fear</td>\n",
       "      <td>Daniel Greenfield, a Shillman Journalism Fello...</td>\n",
       "      <td>FAKE</td>\n",
       "    </tr>\n",
       "    <tr>\n",
       "      <th>1</th>\n",
       "      <td>10294</td>\n",
       "      <td>Watch The Exact Moment Paul Ryan Committed Pol...</td>\n",
       "      <td>Google Pinterest Digg Linkedin Reddit Stumbleu...</td>\n",
       "      <td>FAKE</td>\n",
       "    </tr>\n",
       "    <tr>\n",
       "      <th>2</th>\n",
       "      <td>3608</td>\n",
       "      <td>Kerry to go to Paris in gesture of sympathy</td>\n",
       "      <td>U.S. Secretary of State John F. Kerry said Mon...</td>\n",
       "      <td>REAL</td>\n",
       "    </tr>\n",
       "    <tr>\n",
       "      <th>3</th>\n",
       "      <td>10142</td>\n",
       "      <td>Bernie supporters on Twitter erupt in anger ag...</td>\n",
       "      <td>— Kaydee King (@KaydeeKing) November 9, 2016 T...</td>\n",
       "      <td>FAKE</td>\n",
       "    </tr>\n",
       "    <tr>\n",
       "      <th>4</th>\n",
       "      <td>875</td>\n",
       "      <td>The Battle of New York: Why This Primary Matters</td>\n",
       "      <td>It's primary day in New York and front-runners...</td>\n",
       "      <td>REAL</td>\n",
       "    </tr>\n",
       "  </tbody>\n",
       "</table>\n",
       "</div>"
      ],
      "text/plain": [
       "   Unnamed: 0                                              title  \\\n",
       "0        8476                       You Can Smell Hillary’s Fear   \n",
       "1       10294  Watch The Exact Moment Paul Ryan Committed Pol...   \n",
       "2        3608        Kerry to go to Paris in gesture of sympathy   \n",
       "3       10142  Bernie supporters on Twitter erupt in anger ag...   \n",
       "4         875   The Battle of New York: Why This Primary Matters   \n",
       "\n",
       "                                                text label  \n",
       "0  Daniel Greenfield, a Shillman Journalism Fello...  FAKE  \n",
       "1  Google Pinterest Digg Linkedin Reddit Stumbleu...  FAKE  \n",
       "2  U.S. Secretary of State John F. Kerry said Mon...  REAL  \n",
       "3  — Kaydee King (@KaydeeKing) November 9, 2016 T...  FAKE  \n",
       "4  It's primary day in New York and front-runners...  REAL  "
      ]
     },
     "execution_count": 20,
     "metadata": {},
     "output_type": "execute_result"
    }
   ],
   "source": [
    "file = pd.read_csv(r\"C:\\Users\\USP\\AppData\\Local\\Temp\\Temp1_news.zip\\news.csv\")\n",
    "\n",
    "\n",
    "print(\"This is our data\\n\")\n",
    "print(file.shape)\n",
    "file.head()"
   ]
  },
  {
   "cell_type": "markdown",
   "metadata": {},
   "source": [
    "### Labelling "
   ]
  },
  {
   "cell_type": "code",
   "execution_count": 21,
   "metadata": {},
   "outputs": [
    {
     "data": {
      "text/plain": [
       "0    FAKE\n",
       "1    FAKE\n",
       "2    REAL\n",
       "3    FAKE\n",
       "4    REAL\n",
       "Name: label, dtype: object"
      ]
     },
     "execution_count": 21,
     "metadata": {},
     "output_type": "execute_result"
    }
   ],
   "source": [
    "labelling = file.label\n",
    "\n",
    "labelling.head()"
   ]
  },
  {
   "cell_type": "markdown",
   "metadata": {},
   "source": [
    "### Splitting data"
   ]
  },
  {
   "cell_type": "code",
   "execution_count": 5,
   "metadata": {},
   "outputs": [],
   "source": [
    "x_train, x_test, y_train, y_test = train_test_split(file['text'], labels, test_size=0.2, random_state=7)"
   ]
  },
  {
   "cell_type": "code",
   "execution_count": 6,
   "metadata": {},
   "outputs": [
    {
     "data": {
      "text/plain": [
       "6237    The head of a leading survivalist group has ma...\n",
       "3722    ‹ › Arnaldo Rodgers is a trained and educated ...\n",
       "5774    Patty Sanchez, 51, used to eat 13,000 calories...\n",
       "336     But Benjamin Netanyahu’s reelection was regard...\n",
       "3622    John Kasich was killing it with these Iowa vot...\n",
       "4024    Email \\nIt has become increasingly apparent th...\n",
       "1537    Tesla, ‘World’s Safest Car,’ Explodes Like a B...\n",
       "5200    For those of you salivating — or trembling — a...\n",
       "279     American Express disowns Pink Floyd singer Rog...\n",
       "4973    Osteoporosis (yes, magnesium is more important...\n",
       "1283    Duterte Calls US Admin ‘Monkeys’ for Halting A...\n",
       "4104    (CNN) Donald Trump dominated Super Tuesday, no...\n",
       "876     Donald Trump has just five days until the Repu...\n",
       "4769    Home / #Solutions / Colin Kaepernick Just Star...\n",
       "5080    Black Turnout Soft in Early Voting, Boding Ill...\n",
       "3601    Seven of the eight leading Republican presiden...\n",
       "4722    \\nOn Sunday evening, side-by-side images of Hi...\n",
       "3561    Next Prev Swipe left/right This dad’s tweets a...\n",
       "138     Given that Congress has become so utterly dysf...\n",
       "1949    Fragment of Old Tax Bill Meant to Undercut Mus...\n",
       "4675    Print \\nSen. Bernie Sanders laid out the ways ...\n",
       "504     By Djuan Wash / filmsforaction.org \\nOne canno...\n",
       "4526    Jeb Bush and Mitt Romney have much in common. ...\n",
       "4848    We Are Change \\n\\nWhile many Americans headed ...\n",
       "4741    NAIROBI, Kenya — President Obama spoke out Sun...\n",
       "3712    \\nFox News reported : \\nFive police officers a...\n",
       "2554    The US’ secret drone war has largely been shro...\n",
       "913     Donald Trump is looking for a veep with the po...\n",
       "2759    Farms that once generated wealth for entire co...\n",
       "3131    Email \\nIn what Democrats and the Left hoped w...\n",
       "                              ...                        \n",
       "3896    Since we were children, we have been bombarded...\n",
       "1349    House Republicans investigating the 2012 attac...\n",
       "3775    During the campaign, Trump had threatened to i...\n",
       "3116    BNI Store Nov 2 2016 “We are losing control of...\n",
       "3516    That in itself was a sign that the punch lande...\n",
       "2298    Most of the headlines from Sen. Elizabeth Warr...\n",
       "2871    Democratic presidential candidate Hillary Clin...\n",
       "5195    Speaker At Trump Rally Says He Hopes Hillary C...\n",
       "391     Archives Michael On Television If Hillary Clin...\n",
       "6015    With the general election campaign just hours ...\n",
       "1456    UPDATE: June 4 -- The health insurance enrollm...\n",
       "1092    The National Security Agency's bulk phone reco...\n",
       "6118    Abdullah Muhammad al-Muhaysini, a senior al Qa...\n",
       "3239    Home / News / Fox News Just Exposed Hillary’s ...\n",
       "5000    Levers of Power: Flushing the Vote Down the Me...\n",
       "2778    (CNN) Donald Trump is now the only Republican ...\n",
       "4462    License DMCA The American journalist, Edward B...\n",
       "4441    BREAKING – Investigative Journalist Found Dead...\n",
       "3656    Genius Kid Trolled White House Halloween Party...\n",
       "2583    The race for the Democratic presidential nomin...\n",
       "3257    Now we know why she didn't want those Wall Str...\n",
       "1372    A big new State Department assessment has iden...\n",
       "5735    President Barack Obama insisted Thursday that ...\n",
       "919                                                      \n",
       "4307    By Gordon Duff, Senior Editor on November 2, 2...\n",
       "5699                                                     \n",
       "2550    It’s not that Americans won’t elect wealthy pr...\n",
       "537     Anyone writing sentences like ‘nevertheless fu...\n",
       "1220    More Catholics are in Congress than ever befor...\n",
       "4271    It was hosted by CNN, and the presentation was...\n",
       "Name: text, Length: 5068, dtype: object"
      ]
     },
     "execution_count": 6,
     "metadata": {},
     "output_type": "execute_result"
    }
   ],
   "source": [
    "x_train"
   ]
  },
  {
   "cell_type": "code",
   "execution_count": 7,
   "metadata": {},
   "outputs": [
    {
     "data": {
      "text/plain": [
       "3534    A day after the candidates squared off in a fi...\n",
       "6265    VIDEO : FBI SOURCES SAY INDICTMENT LIKELY FOR ...\n",
       "3123    It's debate season, where social media has bro...\n",
       "3940    Mitch McConnell has decided to wager the Repub...\n",
       "2856    Donald Trump, the actual Republican candidate ...\n",
       "3031    Not all the claims in the vice presidential de...\n",
       "4854    WASHINGTON—Top administration officials forcef...\n",
       "5861    Top Dems want White House to call off Part B d...\n",
       "307     Corrections and clarifications: An earlier ver...\n",
       "2956    posted by Eddie Censorship by Facebook has bec...\n",
       "4594    Email \\n\\nWSJ The political organization of Vi...\n",
       "5268    On Sunday during an appearance on \"Face the Na...\n",
       "3929    After Russian President Vladimir Putin complim...\n",
       "4276    Senate supporters of the Keystone XL pipeline,...\n",
       "5655    The Republican presidential race continues to ...\n",
       "5355    Wed, 26 Oct 2016 17:26 UTC © Sandro Perozzi/AP...\n",
       "2268    (CNN) Matt Bevin, the controversial Kentuckian...\n",
       "4525    Washington (CNN) He cut billions in taxes, int...\n",
       "5979    Hillary Clinton won at least four of five prim...\n",
       "1854    Getty - Saul Loeb/AFP The Wildfire is an opini...\n",
       "2463    Posted on October 28, 2016 by DCG | 2 Comments...\n",
       "4460    In the days after King’s assassination, Americ...\n",
       "305     Ohio governor John Kasich, who is still runnin...\n",
       "4736    Financial Markets , Gold , Market Manipulation...\n",
       "5098    Sen. Rand Paul, R-Ky., announced today that he...\n",
       "351     The federal government must make regular inter...\n",
       "4932    That's one way to quickly characterize the dif...\n",
       "5477    Posted on October 27, 2016 \\nThe editorial boa...\n",
       "5370    \\nThe impact of the Syrian refugee crisis has ...\n",
       "1328    Reinventing Democracy in America Starts by Vot...\n",
       "                              ...                        \n",
       "1535    Email \\nI was in London last weekend to view a...\n",
       "1390    Truth Revolt October 26, 2016 \\nAs usual, Pat ...\n",
       "444     Hegel remarks somewhere that all great world-h...\n",
       "640     A Texas jury reached a guilty verdict in the m...\n",
       "4800    \\nCBS NEWS \\nNEW YORK -- CBS News has learned ...\n",
       "6196    The report also discloses new details relevant...\n",
       "1208    Posted on November 7, 2016 by Carl Herman \\nJo...\n",
       "459     (Live Streams Available Below) \\nAnti-Trump pr...\n",
       "1598    Romney's condemnation, made here at the Stein ...\n",
       "5622    Wikileaks: Bill Clinton BOASTS of Hillary’s ‘W...\n",
       "1955    Email \\nTo view photojournalist Orin Langelle’...\n",
       "1153    CHARLESTON, S.C. — Emanuel AME Church swung op...\n",
       "3202    The USA Era (1945 - 2008) in Retrospect It wor...\n",
       "6089    November 1, 2016 UN Chief urges South Africa t...\n",
       "587     How Western Media Teleported a Child 'Victim' ...\n",
       "625     Next Swipe left/right Make music great again, ...\n",
       "1675    The Iraqi Air Force has bombed the convoy of I...\n",
       "3961    In Texas, Alabama and elsewhere a number of cl...\n",
       "2646    Get short URL 0 44 0 0 Foreign Minister Sergei...\n",
       "5544    (CNN) First, DNA on a pizza crust led authorit...\n",
       "1181    Protesters across the US were on Friday gearin...\n",
       "4568    UK citizens and war heroes get cheap pre-fab h...\n",
       "1953    On Friday morning, a US airstrike killed Abu A...\n",
       "735     law , economy , society , standard of living ,...\n",
       "1137    Dems File Complaint w/DOJ Against FBI for Inve...\n",
       "4986    Washington (CNN) President Barack Obama announ...\n",
       "5789    The revival of middle-class jobs has been one ...\n",
       "4338    \"I can guarantee that,\" Obama answered when as...\n",
       "5924    Videos 30 Civilians Die In US Airstrike Called...\n",
       "6030    The retired neurosurgeon lashed out Friday mor...\n",
       "Name: text, Length: 1267, dtype: object"
      ]
     },
     "execution_count": 7,
     "metadata": {},
     "output_type": "execute_result"
    }
   ],
   "source": [
    "x_test"
   ]
  },
  {
   "cell_type": "code",
   "execution_count": 8,
   "metadata": {},
   "outputs": [
    {
     "data": {
      "text/plain": [
       "6237    FAKE\n",
       "3722    FAKE\n",
       "5774    FAKE\n",
       "336     REAL\n",
       "3622    REAL\n",
       "4024    FAKE\n",
       "1537    FAKE\n",
       "5200    REAL\n",
       "279     FAKE\n",
       "4973    FAKE\n",
       "1283    FAKE\n",
       "4104    REAL\n",
       "876     REAL\n",
       "4769    FAKE\n",
       "5080    FAKE\n",
       "3601    REAL\n",
       "4722    FAKE\n",
       "3561    FAKE\n",
       "138     REAL\n",
       "1949    FAKE\n",
       "4675    FAKE\n",
       "504     FAKE\n",
       "4526    REAL\n",
       "4848    FAKE\n",
       "4741    REAL\n",
       "3712    FAKE\n",
       "2554    FAKE\n",
       "913     REAL\n",
       "2759    REAL\n",
       "3131    FAKE\n",
       "        ... \n",
       "3896    FAKE\n",
       "1349    REAL\n",
       "3775    REAL\n",
       "3116    FAKE\n",
       "3516    REAL\n",
       "2298    REAL\n",
       "2871    REAL\n",
       "5195    FAKE\n",
       "391     FAKE\n",
       "6015    REAL\n",
       "1456    REAL\n",
       "1092    REAL\n",
       "6118    FAKE\n",
       "3239    FAKE\n",
       "5000    FAKE\n",
       "2778    REAL\n",
       "4462    FAKE\n",
       "4441    FAKE\n",
       "3656    FAKE\n",
       "2583    REAL\n",
       "3257    REAL\n",
       "1372    REAL\n",
       "5735    REAL\n",
       "919     FAKE\n",
       "4307    FAKE\n",
       "5699    FAKE\n",
       "2550    REAL\n",
       "537     REAL\n",
       "1220    REAL\n",
       "4271    REAL\n",
       "Name: label, Length: 5068, dtype: object"
      ]
     },
     "execution_count": 8,
     "metadata": {},
     "output_type": "execute_result"
    }
   ],
   "source": [
    "y_train"
   ]
  },
  {
   "cell_type": "code",
   "execution_count": 9,
   "metadata": {},
   "outputs": [
    {
     "data": {
      "text/plain": [
       "3534    REAL\n",
       "6265    FAKE\n",
       "3123    REAL\n",
       "3940    REAL\n",
       "2856    REAL\n",
       "3031    REAL\n",
       "4854    REAL\n",
       "5861    REAL\n",
       "307     REAL\n",
       "2956    FAKE\n",
       "4594    FAKE\n",
       "5268    REAL\n",
       "3929    REAL\n",
       "4276    REAL\n",
       "5655    REAL\n",
       "5355    FAKE\n",
       "2268    REAL\n",
       "4525    REAL\n",
       "5979    REAL\n",
       "1854    FAKE\n",
       "2463    FAKE\n",
       "4460    REAL\n",
       "305     REAL\n",
       "4736    FAKE\n",
       "5098    REAL\n",
       "351     REAL\n",
       "4932    REAL\n",
       "5477    FAKE\n",
       "5370    FAKE\n",
       "1328    FAKE\n",
       "        ... \n",
       "1535    FAKE\n",
       "1390    FAKE\n",
       "444     FAKE\n",
       "640     REAL\n",
       "4800    FAKE\n",
       "6196    REAL\n",
       "1208    FAKE\n",
       "459     FAKE\n",
       "1598    REAL\n",
       "5622    FAKE\n",
       "1955    FAKE\n",
       "1153    REAL\n",
       "3202    FAKE\n",
       "6089    FAKE\n",
       "587     FAKE\n",
       "625     FAKE\n",
       "1675    REAL\n",
       "3961    REAL\n",
       "2646    FAKE\n",
       "5544    REAL\n",
       "1181    REAL\n",
       "4568    FAKE\n",
       "1953    REAL\n",
       "735     FAKE\n",
       "1137    FAKE\n",
       "4986    REAL\n",
       "5789    REAL\n",
       "4338    REAL\n",
       "5924    FAKE\n",
       "6030    REAL\n",
       "Name: label, Length: 1267, dtype: object"
      ]
     },
     "execution_count": 9,
     "metadata": {},
     "output_type": "execute_result"
    }
   ],
   "source": [
    "y_test"
   ]
  },
  {
   "cell_type": "markdown",
   "metadata": {},
   "source": [
    "### Working with TfidfVectorizer"
   ]
  },
  {
   "cell_type": "code",
   "execution_count": 22,
   "metadata": {},
   "outputs": [],
   "source": [
    "\n",
    "tfidf_vector=TfidfVectorizer(stop_words='english', max_df=0.7)\n",
    "\n",
    "\n",
    "tfidf_train=tfidf_vector.fit_transform(x_train) \n",
    "tfidf_test=tfidf_vector.transform(x_test)"
   ]
  },
  {
   "cell_type": "code",
   "execution_count": 23,
   "metadata": {},
   "outputs": [
    {
     "name": "stdout",
     "output_type": "stream",
     "text": [
      "  (0, 25318)\t0.06356197880227954\n",
      "  (0, 31796)\t0.032835312190384304\n",
      "  (0, 53256)\t0.08468714610538439\n",
      "  (0, 24260)\t0.02591230211547521\n",
      "  (0, 49636)\t0.04842197282925203\n",
      "  (0, 3378)\t0.044440694689591796\n",
      "  (0, 57236)\t0.04731169310146364\n",
      "  (0, 51968)\t0.04086068970720691\n",
      "  (0, 23825)\t0.06665750504864855\n",
      "  (0, 8860)\t0.06997151470751813\n",
      "  (0, 48721)\t0.07298886000547623\n",
      "  (0, 10056)\t0.08875931355939351\n",
      "  (0, 56878)\t0.22907566353089\n",
      "  (0, 8953)\t0.07617756364829195\n",
      "  (0, 17858)\t0.08179789731649102\n",
      "  (0, 57811)\t0.05018134592598926\n",
      "  (0, 23481)\t0.13387265628974546\n",
      "  (0, 18378)\t0.16712933698409224\n",
      "  (0, 9851)\t0.026344757209787056\n",
      "  (0, 27283)\t0.114537831765445\n",
      "  (0, 4259)\t0.1252399574231224\n",
      "  (0, 19585)\t0.06609677424160539\n",
      "  (0, 58158)\t0.03931037043190289\n",
      "  (0, 8952)\t0.06669214616557032\n",
      "  (0, 15390)\t0.18274094576335073\n",
      "  :\t:\n",
      "  (5067, 25194)\t0.06815122596851944\n",
      "  (5067, 40823)\t0.06020842915278987\n",
      "  (5067, 51237)\t0.06880620615191042\n",
      "  (5067, 49605)\t0.06329472428436525\n",
      "  (5067, 37290)\t0.07103104644053512\n",
      "  (5067, 55383)\t0.07547446468030639\n",
      "  (5067, 42708)\t0.06485466744083908\n",
      "  (5067, 42219)\t0.14048090961920684\n",
      "  (5067, 13717)\t0.06308824962480555\n",
      "  (5067, 12961)\t0.12923678067290478\n",
      "  (5067, 56698)\t0.06753166786457682\n",
      "  (5067, 26810)\t0.08403681959997857\n",
      "  (5067, 58513)\t0.07188025218175627\n",
      "  (5067, 18443)\t0.06694389628192306\n",
      "  (5067, 40942)\t0.06950090572888828\n",
      "  (5067, 50907)\t0.08538649936034741\n",
      "  (5067, 54347)\t0.076094022784249\n",
      "  (5067, 19852)\t0.08868305788802776\n",
      "  (5067, 12311)\t0.0807402610722982\n",
      "  (5067, 15063)\t0.09662585470375731\n",
      "  (5067, 17502)\t0.09662585470375731\n",
      "  (5067, 57890)\t0.09662585470375731\n",
      "  (5067, 7909)\t0.10127209299180652\n",
      "  (5067, 23082)\t0.10127209299180652\n",
      "  (5067, 36693)\t0.10127209299180652\n"
     ]
    }
   ],
   "source": [
    "print(tfidf_train)"
   ]
  },
  {
   "cell_type": "code",
   "execution_count": 24,
   "metadata": {},
   "outputs": [
    {
     "name": "stdout",
     "output_type": "stream",
     "text": [
      "  (0, 60731)\t0.05899712902382916\n",
      "  (0, 60684)\t0.033385466151529625\n",
      "  (0, 60271)\t0.04581143542258741\n",
      "  (0, 60261)\t0.07937859313949312\n",
      "  (0, 59116)\t0.10997273171965094\n",
      "  (0, 59036)\t0.08042180974421559\n",
      "  (0, 58654)\t0.07128159375531905\n",
      "  (0, 58335)\t0.0678398429566027\n",
      "  (0, 57086)\t0.12429244186413906\n",
      "  (0, 55170)\t0.20939665348422057\n",
      "  (0, 54706)\t0.035492943055135416\n",
      "  (0, 54394)\t0.10596727423829927\n",
      "  (0, 54238)\t0.06234899619642803\n",
      "  (0, 53749)\t0.04942070163765446\n",
      "  (0, 53518)\t0.117529167732626\n",
      "  (0, 53144)\t0.059982387365669215\n",
      "  (0, 52555)\t0.14065295472127948\n",
      "  (0, 52483)\t0.07360851972393109\n",
      "  (0, 51960)\t0.14065295472127948\n",
      "  (0, 51955)\t0.030414611451489323\n",
      "  (0, 51663)\t0.12057034351821985\n",
      "  (0, 51527)\t0.08134873077710283\n",
      "  (0, 51159)\t0.053278054236854326\n",
      "  (0, 51005)\t0.07360851972393109\n",
      "  (0, 50068)\t0.06481045119580665\n",
      "  :\t:\n",
      "  (1266, 16835)\t0.08080116269909657\n",
      "  (1266, 16385)\t0.0655727278454052\n",
      "  (1266, 15999)\t0.03279926109441314\n",
      "  (1266, 14890)\t0.05544599110567492\n",
      "  (1266, 13110)\t0.06697165573835866\n",
      "  (1266, 12885)\t0.05404331760933019\n",
      "  (1266, 12792)\t0.052054416965658004\n",
      "  (1266, 11999)\t0.09393931399068145\n",
      "  (1266, 11425)\t0.061215890922102396\n",
      "  (1266, 11275)\t0.03975222944194533\n",
      "  (1266, 10398)\t0.03928759838998747\n",
      "  (1266, 10334)\t0.052485971705883705\n",
      "  (1266, 9807)\t0.47248142728953435\n",
      "  (1266, 9082)\t0.06889577674672712\n",
      "  (1266, 8639)\t0.09860931312297018\n",
      "  (1266, 7209)\t0.05947909473390904\n",
      "  (1266, 7127)\t0.12219547760308587\n",
      "  (1266, 7021)\t0.09258263295223065\n",
      "  (1266, 6653)\t0.05532410291136702\n",
      "  (1266, 6288)\t0.04255750958351483\n",
      "  (1266, 5568)\t0.04067869750578144\n",
      "  (1266, 5070)\t0.08544954436342893\n",
      "  (1266, 4297)\t0.09929470490549547\n",
      "  (1266, 2510)\t0.04365670001733164\n",
      "  (1266, 2365)\t0.06671538208893119\n"
     ]
    }
   ],
   "source": [
    "print(tfidf_test)"
   ]
  },
  {
   "cell_type": "markdown",
   "metadata": {},
   "source": [
    "### Initializing the PassiveAgressiveClassifier"
   ]
  },
  {
   "cell_type": "code",
   "execution_count": 16,
   "metadata": {},
   "outputs": [
    {
     "name": "stdout",
     "output_type": "stream",
     "text": [
      "Accuracy: 92.82%\n"
     ]
    }
   ],
   "source": [
    "pac=PassiveAggressiveClassifier(max_iter=50)\n",
    "pac.fit(tfidf_train,y_train)\n",
    "\n",
    "\n",
    "y_pred=pac.predict(tfidf_test)\n",
    "score=accuracy_score(y_test,y_pred)\n",
    "print(f'Accuracy: {round(score*100,2)}%')"
   ]
  },
  {
   "cell_type": "markdown",
   "metadata": {},
   "source": [
    "The accuracy is 92.82% in this model. To gain insights about the number of False and True negatives and positives, let's construct out confusionmatrix."
   ]
  },
  {
   "cell_type": "code",
   "execution_count": 17,
   "metadata": {},
   "outputs": [
    {
     "data": {
      "text/plain": [
       "array([[588,  50],\n",
       "       [ 41, 588]], dtype=int64)"
      ]
     },
     "execution_count": 17,
     "metadata": {},
     "output_type": "execute_result"
    }
   ],
   "source": [
    "confusion_matrix(y_test,y_pred, labels=['FAKE','REAL'])"
   ]
  }
 ],
 "metadata": {
  "kernelspec": {
   "display_name": "Python 3",
   "language": "python",
   "name": "python3"
  },
  "language_info": {
   "codemirror_mode": {
    "name": "ipython",
    "version": 3
   },
   "file_extension": ".py",
   "mimetype": "text/x-python",
   "name": "python",
   "nbconvert_exporter": "python",
   "pygments_lexer": "ipython3",
   "version": "3.6.5"
  }
 },
 "nbformat": 4,
 "nbformat_minor": 2
}
